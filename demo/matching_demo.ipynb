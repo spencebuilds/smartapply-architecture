{
 "cells": [
  {
   "cell_type": "markdown",
   "metadata": {},
   "source": [
    "# SmartApply Matching Demo\n",
    "Portfolio showcase of job-resume matching algorithm using synthetic data.\n",
    "\n",
    "This notebook demonstrates the core matching logic without exposing proprietary algorithms."
   ]
  },
  {
   "cell_type": "code",
   "execution_count": null,
   "metadata": {},
   "outputs": [],
   "source": [
    "import json\n",
    "import sys\n",
    "sys.path.append('../')\n",
    "\n",
    "from app.services.translator import TranslatorService\n",
    "from app.services.observability import ObservabilityService\n",
    "\n",
    "# Initialize services (demo mode)\n",
    "translator = TranslatorService()\n",
    "observability = ObservabilityService(\"demo\")\n",
    "\n",
    "print(\"✅ Services initialized for demo\")"
   ]
  },
  {
   "cell_type": "code",
   "execution_count": null,
   "metadata": {},
   "outputs": [],
   "source": [
    "# Load synthetic data\n",
    "with open('data/synthetic_jobs.json', 'r') as f:\n",
    "    jobs = json.load(f)\n",
    "\n",
    "with open('data/synthetic_resume.json', 'r') as f:\n",
    "    resume = json.load(f)\n",
    "\n",
    "print(f\"📊 Loaded {len(jobs)} jobs and 1 resume for matching\")\n",
    "print(f\"Resume skills: {resume['skills']}\")"
   ]
  },
  {
   "cell_type": "code",
   "execution_count": null,
   "metadata": {},
   "outputs": [],
   "source": [
    "def calculate_match_score(job, resume_skills, translator):\n",
    "    \"\"\"\n",
    "    Demo matching algorithm using simple overlap calculation.\n",
    "    Production uses sophisticated semantic similarity and ML models.\n",
    "    \"\"\"\n",
    "    \n",
    "    # Extract job requirements\n",
    "    job_requirements = job.get('requirements', [])\n",
    "    \n",
    "    # Translate terms using demo service\n",
    "    translated_requirements = translator.translate_terms(job_requirements, job['company_name'])\n",
    "    \n",
    "    # Calculate overlap (demo logic)\n",
    "    resume_skills_lower = [skill.lower() for skill in resume_skills]\n",
    "    translated_lower = [req.lower() for req in translated_requirements]\n",
    "    \n",
    "    # Find matches\n",
    "    matches = []\n",
    "    for req in translated_lower:\n",
    "        for skill in resume_skills_lower:\n",
    "            if req in skill or skill in req:\n",
    "                matches.append((req, skill))\n",
    "    \n",
    "    # Calculate score\n",
    "    if not job_requirements:\n",
    "        return 0.0, matches, translated_requirements\n",
    "    \n",
    "    score = len(set([m[0] for m in matches])) / len(job_requirements)\n",
    "    return min(score, 1.0), matches, translated_requirements\n",
    "\n",
    "print(\"🔧 Match scoring function defined\")"
   ]
  },
  {
   "cell_type": "code",
   "execution_count": null,
   "metadata": {},
   "outputs": [],
   "source": [
    "# Run matching analysis\n",
    "results = []\n",
    "\n",
    "with observability.timer(\"job_matching_batch\"):\n",
    "    for job in jobs:\n",
    "        score, matches, translated_reqs = calculate_match_score(job, resume['skills'], translator)\n",
    "        \n",
    "        result = {\n",
    "            'job_id': job['id'],\n",
    "            'company': job['company_name'],\n",
    "            'role': job['role_title'],\n",
    "            'match_score': round(score * 100, 1),\n",
    "            'matches_found': len(matches),\n",
    "            'key_matches': matches[:3],  # Top 3 matches\n",
    "            'translated_requirements': translated_reqs,\n",
    "            'salary_range': job.get('salary_range', 'Not specified')\n",
    "        }\n",
    "        results.append(result)\n",
    "        \n",
    "        # Log metrics\n",
    "        observability.record_metric(\"counter\", \"jobs_analyzed\", 1)\n",
    "        observability.record_metric(\"histogram\", \"match_score\", score * 100)\n",
    "\n",
    "print(f\"✅ Analyzed {len(results)} job matches\")"
   ]
  },
  {
   "cell_type": "code",
   "execution_count": null,
   "metadata": {},
   "outputs": [],
   "source": [
    "# Display results sorted by match score\n",
    "results_sorted = sorted(results, key=lambda x: x['match_score'], reverse=True)\n",
    "\n",
    "print(\"🎯 TOP JOB MATCHES\\n\" + \"=\" * 50)\n",
    "\n",
    "for i, result in enumerate(results_sorted, 1):\n",
    "    print(f\"\\n{i}. {result['role']} at {result['company']}\")\n",
    "    print(f\"   Match Score: {result['match_score']}%\")\n",
    "    print(f\"   Salary: {result['salary_range']}\")\n",
    "    print(f\"   Key Matches: {result['matches_found']} found\")\n",
    "    \n",
    "    if result['key_matches']:\n",
    "        print(\"   Top Matches:\")\n",
    "        for req, skill in result['key_matches']:\n",
    "            print(f\"     • '{req}' ↔ '{skill}'\")\n",
    "    \n",
    "    print(f\"   Job ID: {result['job_id']}\")"
   ]
  },
  {
   "cell_type": "code",
   "execution_count": null,
   "metadata": {},
   "outputs": [],
   "source": [
    "# Demonstrate vocabulary translation\n",
    "print(\"🔄 VOCABULARY TRANSLATION DEMO\\n\" + \"=\" * 40)\n",
    "\n",
    "sample_terms = [\"api\", \"microservices\", \"observability\", \"platform\"]\n",
    "companies = [\"PaymentTech\", \"CloudInfra Systems\"]\n",
    "\n",
    "for company in companies:\n",
    "    print(f\"\\n{company}:\")\n",
    "    translations = translator.batch_translate_with_confidence(sample_terms, company)\n",
    "    \n",
    "    for translation in translations:\n",
    "        print(f\"  '{translation['original']}' → '{translation['translated']}'\")\n",
    "        print(f\"    Confidence: {translation['confidence']:.2f} | Source: {translation['source']}\")"
   ]
  },
  {
   "cell_type": "code",
   "execution_count": null,
   "metadata": {},
   "outputs": [],
   "source": [
    "# Show system observability metrics\n",
    "print(\"📊 SYSTEM METRICS\\n\" + \"=\" * 30)\n",
    "\n",
    "health = observability.get_health_metrics()\n",
    "print(f\"System Health: {health['health']}\")\n",
    "print(f\"Recent API Calls: {health['metrics']['recent_api_calls']}\")\n",
    "print(f\"Average Response Time: {health['metrics']['avg_response_time_ms']:.1f}ms\")\n",
    "print(f\"Error Rate: {health['metrics']['error_rate']:.2%}\")\n",
    "\n",
    "print(\"\\nFull metrics export:\")\n",
    "print(observability.export_metrics())"
   ]
  },
  {
   "cell_type": "code",
   "execution_count": null,
   "metadata": {},
   "outputs": [],
   "source": [
    "# Demo human-in-the-loop analysis structure\n",
    "print(\"👤 HUMAN-IN-THE-LOOP DEMO\\n\" + \"=\" * 35)\n",
    "\n",
    "# Take the top match for demonstration\n",
    "top_match = results_sorted[0]\n",
    "print(f\"Analyzing: {top_match['role']} at {top_match['company']}\")\n",
    "print(f\"Algorithm Score: {top_match['match_score']}%\")\n",
    "\n",
    "# Demo human analysis structure\n",
    "human_analysis = {\n",
    "    \"job_posting_id\": top_match['job_id'],\n",
    "    \"user_id\": \"demo_user_001\",\n",
    "    \"analyst_type\": \"human\",\n",
    "    \"overall_fit_score\": 85,  # Human override of algorithm\n",
    "    \"fit_reasoning\": \"Strong platform experience aligns well with role requirements. Previous billing platform work is highly relevant.\",\n",
    "    \"key_matches\": {\n",
    "        \"platform\": \"6+ years platform product management\",\n",
    "        \"developer_tools\": \"Built internal developer tooling\",\n",
    "        \"cross_functional\": \"Led cross-functional alignment initiatives\"\n",
    "    },\n",
    "    \"vocabulary_gaps\": {\n",
    "        \"SDK\": \"Need to emphasize API and integration work\",\n",
    "        \"community\": \"Should highlight developer community engagement\"\n",
    "    },\n",
    "    \"optimization_strategy\": \"Emphasize developer-facing platform work, highlight API design experience\",\n",
    "    \"resume_version_recommended\": \"platform_focused_v2\",\n",
    "    \"confidence_level\": 8,\n",
    "    \"estimated_application_priority\": \"high\"\n",
    "}\n",
    "\n",
    "print(\"\\nHuman Analysis Structure:\")\n",
    "print(json.dumps(human_analysis, indent=2))\n",
    "\n",
    "print(\"\\n💡 In production, this analysis would be stored via:\")\n",
    "print(\"POST /human/role-analysis with full validation and audit trail\")"
   ]
  },
  {
   "cell_type": "markdown",
   "metadata": {},
   "source": [
    "## Summary\n",
    "\n",
    "This demo showcases:\n",
    "\n",
    "1. **Job-Resume Matching**: Simple overlap algorithm (production uses ML)\n",
    "2. **Vocabulary Translation**: Company-specific term mapping\n",
    "3. **Observability**: Metrics collection and health monitoring  \n",
    "4. **Human-in-the-Loop**: Structured analysis format for human input\n",
    "\n",
    "**Portfolio Note**: This demonstrates architecture and data flow patterns. Production includes sophisticated semantic similarity models, proprietary vocabulary engines, and ML-powered matching algorithms that are not included in this public showcase."
   ]
  }
 ],
 "metadata": {
  "kernelspec": {
   "display_name": "Python 3",
   "language": "python",
   "name": "python3"
  },
  "language_info": {
   "codemirror_mode": {
    "name": "ipython",
    "version": 3
   },
   "file_extension": ".py",
   "name": "python",
   "nbconvert_exporter": "python",
   "pygments_lexer": "ipython3",
   "version": "3.11.0"
  }
 },
 "nbformat": 4,
 "nbformat_minor": 4
}